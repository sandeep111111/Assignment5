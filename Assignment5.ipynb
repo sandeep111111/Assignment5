{
 "cells": [
  {
   "cell_type": "code",
   "execution_count": 2,
   "id": "00db3d0d-5e50-48c6-baca-5b3d83601a1f",
   "metadata": {},
   "outputs": [
    {
     "name": "stdout",
     "output_type": "stream",
     "text": [
      "[('Virat Kohli', 24936), ('Jack Kallis', 25534), ('Ricky Ponting', 27483), ('Sachin Tendulkar', 34357)]\n"
     ]
    }
   ],
   "source": [
    "#Ans1:\n",
    "l=[('Sachin Tendulkar', 34357), ('Ricky Ponting', 27483), ('Jack Kallis', 25534), ('Virat Kohli', 24936)] \n",
    "l.sort(key=lambda a: a[1])\n",
    "print(l)"
   ]
  },
  {
   "cell_type": "code",
   "execution_count": 4,
   "id": "1b6383d3-42f4-4fd7-8379-91c1e87d5beb",
   "metadata": {},
   "outputs": [
    {
     "data": {
      "text/plain": [
       "[1, 4, 9, 16, 25, 36, 49, 64, 81, 100]"
      ]
     },
     "execution_count": 4,
     "metadata": {},
     "output_type": "execute_result"
    }
   ],
   "source": [
    "#Ans2:\n",
    "l=[1, 2, 3, 4, 5, 6, 7, 8, 9, 10] \n",
    "list(map(lambda a:a**2,l))"
   ]
  },
  {
   "cell_type": "code",
   "execution_count": 1,
   "id": "ba1bbc07-3ccd-4f39-990f-d1271f07cf9d",
   "metadata": {},
   "outputs": [
    {
     "data": {
      "text/plain": [
       "('1', '2', '3', '4', '5', '6', '7', '8', '9', '10')"
      ]
     },
     "execution_count": 1,
     "metadata": {},
     "output_type": "execute_result"
    }
   ],
   "source": [
    "#Ans3:\n",
    "l=[1, 2, 3, 4, 5, 6, 7, 8, 9, 10]\n",
    "tuple(map(lambda a:str(a),l))\n"
   ]
  },
  {
   "cell_type": "code",
   "execution_count": 4,
   "id": "02a283a1-6682-4e70-9217-3ff882797dba",
   "metadata": {},
   "outputs": [
    {
     "data": {
      "text/plain": [
       "325"
      ]
     },
     "execution_count": 4,
     "metadata": {},
     "output_type": "execute_result"
    }
   ],
   "source": [
    "#Ans4:\n",
    "from functools import reduce\n",
    "l=[i for i in range(1,26)]\n",
    "reduce(lambda x,y:x+y,l)\n"
   ]
  },
  {
   "cell_type": "code",
   "execution_count": 6,
   "id": "e5905c1c-3301-4142-b74b-3b4f9a68ceb7",
   "metadata": {},
   "outputs": [
    {
     "data": {
      "text/plain": [
       "[6, 60, 90, 120]"
      ]
     },
     "execution_count": 6,
     "metadata": {},
     "output_type": "execute_result"
    }
   ],
   "source": [
    "#Ans5:\n",
    "l=[2, 3, 6, 9, 27, 60, 90, 120, 55, 46] \n",
    "list(filter(lambda a:a%2==0 and a%3==0,l))\n"
   ]
  },
  {
   "cell_type": "code",
   "execution_count": null,
   "id": "6b9e459c-1409-4fdf-b08f-bc1c317df03b",
   "metadata": {},
   "outputs": [],
   "source": [
    "#Ans6:\n",
    "l=['python', 'php', 'aba', 'radar', 'level'] \n",
    "list(fi"
   ]
  }
 ],
 "metadata": {
  "kernelspec": {
   "display_name": "Python 3 (ipykernel)",
   "language": "python",
   "name": "python3"
  },
  "language_info": {
   "codemirror_mode": {
    "name": "ipython",
    "version": 3
   },
   "file_extension": ".py",
   "mimetype": "text/x-python",
   "name": "python",
   "nbconvert_exporter": "python",
   "pygments_lexer": "ipython3",
   "version": "3.10.8"
  }
 },
 "nbformat": 4,
 "nbformat_minor": 5
}
